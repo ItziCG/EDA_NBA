{
 "cells": [
  {
   "cell_type": "markdown",
   "metadata": {},
   "source": [
    "![imagen](./img/ejercicios.png)"
   ]
  },
  {
   "cell_type": "markdown",
   "metadata": {},
   "source": [
    "# INFORMACIÓN DEL PROYECTO"
   ]
  },
  {
   "cell_type": "markdown",
   "metadata": {},
   "source": [
    "### TÍTULO"
   ]
  },
  {
   "cell_type": "markdown",
   "metadata": {},
   "source": [
    "**EL PRECIO DEL RENDIMIENTO DE LOS JUGADORES DE LA NBA**"
   ]
  },
  {
   "cell_type": "markdown",
   "metadata": {},
   "source": [
    "### TEMA"
   ]
  },
  {
   "cell_type": "markdown",
   "metadata": {},
   "source": [
    "Estudiaré la relación entres los estadisticos de los jugadores y su salario.\n",
    "Trataré una serie de variables interrelacionadas unas con otras y con distinto grado de relación con el salario del jugador. Pues bien, es ésto último lo que estudiaré más a fondo, interpretando qué variables, qué factores del rendimiento, están fuertemente relacionadas con el salario y observar qué aspectos hacen que un jugador alcance un salario por encima de un valor medio que estableceré considerándolo un salario alto. Así procuraré establecer distinciones con respecto al rendimiento y salario de ciertos jugadores destacables."
   ]
  },
  {
   "cell_type": "markdown",
   "metadata": {},
   "source": [
    "### HIPÓTESIS"
   ]
  },
  {
   "cell_type": "markdown",
   "metadata": {},
   "source": [
    "Define aquí lo que será la hipótesis de tu proyecto.\n",
    "Puede que tengas más de una, pero tu proyecto lo harás teniendo una principal hipótesis."
   ]
  },
  {
   "cell_type": "markdown",
   "metadata": {},
   "source": [
    "Realizaré un estudio sobre la relación entre el salario y el rendimiento de un conjunto de jugadores de la NBA en la temporada 2017-2018, con el fin de comprobar si existe una relación entre dichos aspectos. En caso de que fuese así, ¿cómo de fuerte es esta relación?\n",
    "¿Sería factible revaluar los salarios de los jugadores según este método?"
   ]
  },
  {
   "cell_type": "markdown",
   "metadata": {},
   "source": [
    "Otro estudio interesante a realizar es sobre las diferencias de salario entre los distintos jugadores a pesar de sus similares estadísticas\n",
    "¿por qué este jugador tiene un salario alto si este otro posee las mismas características teniendo un salario inferior?, ¿qué hace que esto sea así?, ¿sería una razón reclamable para los futuros jugadores?"
   ]
  },
  {
   "cell_type": "markdown",
   "metadata": {},
   "source": [
    "## OBTENCIÓN DE LOS DATOS"
   ]
  },
  {
   "cell_type": "markdown",
   "metadata": {},
   "source": [
    "### DATASETS Y FUENTES ALTERNATIVAS DE DATOS"
   ]
  },
  {
   "cell_type": "markdown",
   "metadata": {},
   "source": [
    "Incluye aquí una breve descripción del dataset o datasets de los que partirás para poder evaluar tu hipótesis. <br>\n",
    "También incluye el origen de estos datos y su fuente."
   ]
  },
  {
   "cell_type": "markdown",
   "metadata": {},
   "source": [
    "El dataset lo he obtenido de la plataforma web **Kagle**, con nombre NBA Salaries Prediction in 2017-2018 Season.\n",
    "\n",
    "[link a la pagina del dataset](https://www.kaggle.com/datasets/aishjun/nba-salaries-prediction-in-20172018-season?select=2017-18_NBA_salary.csv)\n",
    "\n",
    "La base de datos obtenida, nos proporciona los estadísticos sobre un conjunto de jugadores de la NBA de la temporada 2017-2018, como el salario, el rendimiento por minuto, los tiros etc. Un conjunto con 28 variables, de las cuales 3 son categóricas, el nombre del jugador, el pais natal y el equipo, y el resto de variables son de tipo numérico."
   ]
  },
  {
   "cell_type": "markdown",
   "metadata": {},
   "source": [
    "Muestra mediante un head() los principales datasets con los que vas a trabajar"
   ]
  },
  {
   "cell_type": "code",
   "execution_count": null,
   "metadata": {},
   "outputs": [],
   "source": [
    "# Primer dataset"
   ]
  }
 ],
 "metadata": {
  "interpreter": {
   "hash": "7c77fdb427e7cbc9bc1367dd530fc2b36aacdbbde1ac83c85833b10dfa8b831c"
  },
  "kernelspec": {
   "display_name": "Python 3.7.4 64-bit",
   "language": "python",
   "name": "python3"
  },
  "language_info": {
   "codemirror_mode": {
    "name": "ipython",
    "version": 3
   },
   "file_extension": ".py",
   "mimetype": "text/x-python",
   "name": "python",
   "nbconvert_exporter": "python",
   "pygments_lexer": "ipython3",
   "version": "3.7.4"
  },
  "orig_nbformat": 4
 },
 "nbformat": 4,
 "nbformat_minor": 2
}
